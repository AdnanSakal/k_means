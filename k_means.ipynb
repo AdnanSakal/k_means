{
  "cells": [
    {
      "cell_type": "markdown",
      "metadata": {
        "id": "view-in-github",
        "colab_type": "text"
      },
      "source": [
        "<a href=\"https://colab.research.google.com/github/AdnanSakal/k_means/blob/main/k_means.ipynb\" target=\"_parent\"><img src=\"https://colab.research.google.com/assets/colab-badge.svg\" alt=\"Open In Colab\"/></a>"
      ]
    },
    {
      "cell_type": "code",
      "execution_count": null,
      "metadata": {
        "id": "3JCGKhscvOoe"
      },
      "outputs": [],
      "source": [
        "import tensorflow as tf\n",
        "import numpy as np\n",
        "import matplotlib.pyplot as plt\n",
        "import pandas as pd"
      ]
    },
    {
      "cell_type": "code",
      "source": [
        "a = tf.range(100).numpy().reshape([50,2])\n",
        "a[:10]"
      ],
      "metadata": {
        "colab": {
          "base_uri": "https://localhost:8080/"
        },
        "id": "-ZleD0osCiU1",
        "outputId": "099beccb-33e0-43bd-a704-32a8926cafdf"
      },
      "execution_count": null,
      "outputs": [
        {
          "output_type": "execute_result",
          "data": {
            "text/plain": [
              "array([[ 0,  1],\n",
              "       [ 2,  3],\n",
              "       [ 4,  5],\n",
              "       [ 6,  7],\n",
              "       [ 8,  9],\n",
              "       [10, 11],\n",
              "       [12, 13],\n",
              "       [14, 15],\n",
              "       [16, 17],\n",
              "       [18, 19]], dtype=int32)"
            ]
          },
          "metadata": {},
          "execution_count": 102
        }
      ]
    },
    {
      "cell_type": "code",
      "source": [
        "plt.scatter(a[:,0],a[:,1])"
      ],
      "metadata": {
        "colab": {
          "base_uri": "https://localhost:8080/",
          "height": 447
        },
        "id": "ypsKcJnHDW9c",
        "outputId": "4b89c79c-8a1e-422f-9be0-2f057939a5e7"
      },
      "execution_count": null,
      "outputs": [
        {
          "output_type": "execute_result",
          "data": {
            "text/plain": [
              "<matplotlib.collections.PathCollection at 0x7ab06df43940>"
            ]
          },
          "metadata": {},
          "execution_count": 103
        },
        {
          "output_type": "display_data",
          "data": {
            "text/plain": [
              "<Figure size 640x480 with 1 Axes>"
            ],
            "image/png": "[encoded data removed]"
          },
          "metadata": {}
        }
      ]
    },
    {
      "cell_type": "code",
      "source": [
        "import random\n",
        "demo_centroids = random.sample(list(a),3)\n",
        "demo_centroids"
      ],
      "metadata": {
        "colab": {
          "base_uri": "https://localhost:8080/"
        },
        "id": "fHqiW26UCknG",
        "outputId": "a38f9a3c-1d12-4cba-bd18-c2be15397360"
      },
      "execution_count": null,
      "outputs": [
        {
          "output_type": "execute_result",
          "data": {
            "text/plain": [
              "[array([40, 41], dtype=int32),\n",
              " array([90, 91], dtype=int32),\n",
              " array([0, 1], dtype=int32)]"
            ]
          },
          "metadata": {},
          "execution_count": 113
        }
      ]
    },
    {
      "cell_type": "code",
      "execution_count": null,
      "metadata": {
        "id": "BLA_VmQURRwa"
      },
      "outputs": [],
      "source": [
        "def find_closet(x,centroids):\n",
        "  idx = np.zeros(x.shape[0])\n",
        "  for i in range(x.shape[0]):\n",
        "    distance = []\n",
        "    for j in range(len(centroids)):\n",
        "      norm_ij = np.linalg.norm(x[i]-centroids[j])\n",
        "      distance.append(norm_ij)\n",
        "    idx[i] = np.argmin(distance)\n",
        "  return idx"
      ]
    },
    {
      "cell_type": "code",
      "source": [
        "demo_idx = find_closet(a,demo_centroids)"
      ],
      "metadata": {
        "id": "sLQFVm4wEQfM"
      },
      "execution_count": null,
      "outputs": []
    },
    {
      "cell_type": "code",
      "source": [
        "demo_idx"
      ],
      "metadata": {
        "colab": {
          "base_uri": "https://localhost:8080/"
        },
        "id": "KNKO21JvEayg",
        "outputId": "ced2b931-cb73-4518-fef2-e06becd6322c"
      },
      "execution_count": null,
      "outputs": [
        {
          "output_type": "execute_result",
          "data": {
            "text/plain": [
              "array([2., 2., 2., 2., 2., 2., 2., 2., 2., 2., 0., 0., 0., 0., 0., 0., 0.,\n",
              "       0., 0., 0., 0., 0., 0., 0., 0., 0., 0., 0., 0., 0., 0., 0., 0., 1.,\n",
              "       1., 1., 1., 1., 1., 1., 1., 1., 1., 1., 1., 1., 1., 1., 1., 1.])"
            ]
          },
          "metadata": {},
          "execution_count": 115
        }
      ]
    },
    {
      "cell_type": "code",
      "execution_count": null,
      "metadata": {
        "id": "fY00cEoVUvIb"
      },
      "outputs": [],
      "source": [
        "def compute_centroids(x,idx,K):\n",
        "  centroids = np.zeros([len(K),x.shape[1]])\n",
        "  for k in range(len(K)):\n",
        "    point = x[idx == k]\n",
        "    centroids[k] = np.mean(point,axis=0)\n",
        "  return centroids"
      ]
    },
    {
      "cell_type": "code",
      "source": [
        "new_demo_centroids = compute_centroids(a,demo_idx,demo_centroids)\n",
        "new_demo_centroids"
      ],
      "metadata": {
        "colab": {
          "base_uri": "https://localhost:8080/"
        },
        "id": "FwjWBYawE6Oo",
        "outputId": "024ee005-0245-4c13-82aa-3e0e9ab1a53c"
      },
      "execution_count": null,
      "outputs": [
        {
          "output_type": "execute_result",
          "data": {
            "text/plain": [
              "array([[42., 43.],\n",
              "       [82., 83.],\n",
              "       [ 9., 10.]])"
            ]
          },
          "metadata": {},
          "execution_count": 116
        }
      ]
    },
    {
      "cell_type": "code",
      "execution_count": null,
      "metadata": {
        "id": "hPZ6NiuJQy0a"
      },
      "outputs": [],
      "source": [
        "def run_kmeans(x,initialize_centroids,max_iter=20):\n",
        "  centroids = initialize_centroids\n",
        "  for i in range(max_iter):\n",
        "    idx = find_closet(x,centroids)\n",
        "    centroids = compute_centroids(x,idx,centroids)\n",
        "  return centroids,idx"
      ]
    },
    {
      "cell_type": "code",
      "source": [
        "centroids = random.sample(list(a),3)"
      ],
      "metadata": {
        "id": "n7qctOHjGfU4"
      },
      "execution_count": null,
      "outputs": []
    },
    {
      "cell_type": "code",
      "source": [
        "org_centroids,org_idx = run_kmeans(a,centroids)"
      ],
      "metadata": {
        "id": "XsORY00pFW9M"
      },
      "execution_count": null,
      "outputs": []
    },
    {
      "cell_type": "code",
      "execution_count": null,
      "metadata": {
        "colab": {
          "base_uri": "https://localhost:8080/",
          "height": 447
        },
        "id": "uWnnHql9Z4Lz",
        "outputId": "07a41d42-5bc8-40f6-f80d-921ca3e1b349"
      },
      "outputs": [
        {
          "output_type": "execute_result",
          "data": {
            "text/plain": [
              "<matplotlib.legend.Legend at 0x7ab06dcd7eb0>"
            ]
          },
          "metadata": {},
          "execution_count": 131
        },
        {
          "output_type": "display_data",
          "data": {
            "text/plain": [
              "<Figure size 640x480 with 1 Axes>"
            ],
            "image/png": "[encoded data removed]"
          },
          "metadata": {}
        }
      ],
      "source": [
        "plt.scatter(org_centroids[:,0],org_centroids[:,1],label = \"cluster\")\n",
        "\n",
        "first_cl_data = a[org_idx == 0]\n",
        "second_cl_data = a[org_idx == 1]\n",
        "third_cl_data = a[org_idx == 2]\n",
        "\n",
        "plt.scatter(first_cl_data[:,0],first_cl_data[:,1],label = \"first_cl\",alpha = 0.5)\n",
        "plt.scatter(second_cl_data[:,0],second_cl_data[:,1],label = \"second_cl\",alpha = 0.5)\n",
        "plt.scatter(third_cl_data[:,0],third_cl_data[:,1],label = \"third_cl\",alpha = 0.5)\n",
        "\n",
        "plt.legend()"
      ]
    },
    {
      "cell_type": "code",
      "source": [
        "org_centroids"
      ],
      "metadata": {
        "id": "qpigBayvHvxn",
        "outputId": "2fae44db-d15a-4869-896b-58f5c3f3c435",
        "colab": {
          "base_uri": "https://localhost:8080/"
        }
      },
      "execution_count": null,
      "outputs": [
        {
          "output_type": "execute_result",
          "data": {
            "text/plain": [
              "array([[48., 49.],\n",
              "       [15., 16.],\n",
              "       [82., 83.]])"
            ]
          },
          "metadata": {},
          "execution_count": 132
        }
      ]
    }
  ],
  "metadata": {
    "colab": {
      "provenance": [],
      "authorship_tag": "ABX9TyP2uQla9JHre2UfVAZbVgUB",
      "include_colab_link": true
    },
    "kernelspec": {
      "display_name": "Python 3",
      "name": "python3"
    },
    "language_info": {
      "name": "python"
    }
  },
  "nbformat": 4,
  "nbformat_minor": 0
}